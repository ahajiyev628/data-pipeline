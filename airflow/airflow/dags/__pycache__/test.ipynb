{
 "cells": [
  {
   "cell_type": "code",
   "execution_count": null,
   "id": "c8303a31",
   "metadata": {},
   "outputs": [],
   "source": [
    "# quick sort\n",
    "def quick_sort(arr):\n",
    "    if len(arr) <= 1:\n",
    "        return arr\n",
    "\n",
    "    pivot = arr[-1]\n",
    "    print(\"-----\")\n",
    "    print(pivot)\n",
    "    left = [x for x in arr[:-1] if x <= pivot]\n",
    "    print(left)\n",
    "    right = [x for x in arr[:-1] if x > pivot]\n",
    "    print(right)\n",
    "\n",
    "    return quick_sort(left) + [pivot] + quick_sort(right)"
   ]
  },
  {
   "cell_type": "code",
   "execution_count": 10,
   "id": "af297730",
   "metadata": {},
   "outputs": [
    {
     "name": "stdout",
     "output_type": "stream",
     "text": [
      "-----\n",
      "2\n",
      "[]\n",
      "[5, 3, 8, 4]\n",
      "-----\n",
      "4\n",
      "[3]\n",
      "[5, 8]\n",
      "-----\n",
      "8\n",
      "[5]\n",
      "[]\n",
      "[2, 3, 4, 5, 8]\n"
     ]
    }
   ],
   "source": [
    "print(quick_sort([5, 3, 8, 4, 2]))\n"
   ]
  },
  {
   "cell_type": "code",
   "execution_count": null,
   "id": "43b3f4c2",
   "metadata": {},
   "outputs": [
    {
     "name": "stdout",
     "output_type": "stream",
     "text": [
      "[1, 2, 5, 7]\n"
     ]
    }
   ],
   "source": [
    "# merge sort\n",
    "def merge_sort(arr):\n",
    "    if len(arr) <= 1:\n",
    "        return arr\n",
    "\n",
    "    mid = len(arr) // 2\n",
    "    left = merge_sort(arr[:mid])\n",
    "    right = merge_sort(arr[mid:])\n",
    "\n",
    "    sorted_list = []\n",
    "    while left and right:\n",
    "        if left[0] < right[0]:\n",
    "            sorted_list.append(left.pop(0))\n",
    "        else:\n",
    "            sorted_list.append(right.pop(0))\n",
    "\n",
    "    # Add what's left\n",
    "    sorted_list += left\n",
    "    sorted_list += right\n",
    "\n",
    "    return sorted_list\n",
    "\n",
    "# Try it out\n",
    "print(merge_sort([7, 2, 5, 1]))\n"
   ]
  },
  {
   "cell_type": "code",
   "execution_count": 17,
   "id": "64594df7",
   "metadata": {},
   "outputs": [],
   "source": [
    "# Bubble sort\n",
    "def bubble_sort(arr):\n",
    "    n = len(arr)\n",
    "    \n",
    "    for i in range(n):\n",
    "        # Go through the list\n",
    "        for j in range(0, n - i - 1):\n",
    "            # Swap if elements are in the wrong order\n",
    "            if arr[j] > arr[j + 1]:\n",
    "                arr[j], arr[j + 1] = arr[j + 1], arr[j]\n",
    "\n",
    "    return arr"
   ]
  },
  {
   "cell_type": "code",
   "execution_count": 18,
   "id": "cb9b05a9",
   "metadata": {},
   "outputs": [
    {
     "name": "stdout",
     "output_type": "stream",
     "text": [
      "[1, 2, 4, 5, 8]\n"
     ]
    }
   ],
   "source": [
    "print(bubble_sort([5, 1, 4, 2, 8]))"
   ]
  },
  {
   "cell_type": "code",
   "execution_count": 19,
   "id": "a5c14d2e",
   "metadata": {},
   "outputs": [
    {
     "name": "stdout",
     "output_type": "stream",
     "text": [
      "120\n"
     ]
    }
   ],
   "source": [
    "# factorial\n",
    "def factorial_recursive(n):\n",
    "    if n == 0 or n == 1:\n",
    "        return 1\n",
    "    return n * factorial_recursive(n - 1)\n",
    "\n",
    "# Try it out\n",
    "print(factorial_recursive(5))  # Output: 120"
   ]
  },
  {
   "cell_type": "code",
   "execution_count": 20,
   "id": "475a1ef0",
   "metadata": {},
   "outputs": [
    {
     "name": "stdout",
     "output_type": "stream",
     "text": [
      "8\n"
     ]
    }
   ],
   "source": [
    "def fibonacci_recursive(n):\n",
    "    if n <= 1:\n",
    "        return n\n",
    "    return fibonacci_recursive(n - 1) + fibonacci_recursive(n - 2)\n",
    "\n",
    "# Try it\n",
    "print(fibonacci_recursive(6))  # Output: 8"
   ]
  },
  {
   "cell_type": "code",
   "execution_count": null,
   "id": "1bdc324c",
   "metadata": {},
   "outputs": [],
   "source": []
  }
 ],
 "metadata": {
  "kernelspec": {
   "display_name": "Python 3",
   "language": "python",
   "name": "python3"
  },
  "language_info": {
   "codemirror_mode": {
    "name": "ipython",
    "version": 3
   },
   "file_extension": ".py",
   "mimetype": "text/x-python",
   "name": "python",
   "nbconvert_exporter": "python",
   "pygments_lexer": "ipython3",
   "version": "3.11.9"
  }
 },
 "nbformat": 4,
 "nbformat_minor": 5
}
